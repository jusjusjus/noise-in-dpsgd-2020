{
  "nbformat": 4,
  "nbformat_minor": 0,
  "metadata": {
    "colab": {
      "name": "train-dpgan-in-colab.ipynb",
      "provenance": [],
      "collapsed_sections": [],
      "authorship_tag": "ABX9TyPvjfIHAlxWjRvpovkPmfGn",
      "include_colab_link": true
    },
    "kernelspec": {
      "name": "python3",
      "display_name": "Python 3"
    },
    "accelerator": "GPU"
  },
  "cells": [
    {
      "cell_type": "markdown",
      "metadata": {
        "id": "view-in-github",
        "colab_type": "text"
      },
      "source": [
        "<a href=\"https://colab.research.google.com/github/jusjusjus/noise-in-dpsgd-2020/blob/master/train_dpgan_in_colab.ipynb\" target=\"_parent\"><img src=\"https://colab.research.google.com/assets/colab-badge.svg\" alt=\"Open In Colab\"/></a>"
      ]
    },
    {
      "cell_type": "code",
      "metadata": {
        "id": "Id-9FnHSn2Ex",
        "colab_type": "code",
        "colab": {}
      },
      "source": [
        "!git clone https://github.com/jusjusjus/noise-in-dpsgd-2020.git"
      ],
      "execution_count": 0,
      "outputs": []
    },
    {
      "cell_type": "code",
      "metadata": {
        "id": "zNb6bQtwR4nk",
        "colab_type": "code",
        "colab": {}
      },
      "source": [
        "cd noise-in-dpsgd-2020"
      ],
      "execution_count": 0,
      "outputs": []
    },
    {
      "cell_type": "code",
      "metadata": {
        "id": "fciV-elcRsdh",
        "colab_type": "code",
        "colab": {}
      },
      "source": [
        "!nvidia-smi"
      ],
      "execution_count": 0,
      "outputs": []
    },
    {
      "cell_type": "code",
      "metadata": {
        "id": "sVEk0h7SoD8I",
        "colab_type": "code",
        "colab": {}
      },
      "source": [
        "from os import makedirs\n",
        "from os.path import join, dirname\n",
        "\n",
        "import torch\n",
        "import numpy as np\n",
        "from PIL import Image\n",
        "from torch import nn\n",
        "from torch import optim\n",
        "from torch.utils.data import DataLoader\n",
        "from torchvision import datasets\n",
        "\n",
        "from ganlib.classifier import Classifier\n",
        "\n",
        "torch.manual_seed(42 * 42)\n",
        "\n",
        "class Dataset(datasets.MNIST):\n",
        "\n",
        "    def __init__(self, *args, **kwargs):\n",
        "        data_dir = join('cache', 'data')\n",
        "        makedirs(data_dir, exist_ok=True)\n",
        "        super().__init__(data_dir, *args, download=True, **kwargs)\n",
        "\n",
        "    def __getitem__(self, i):\n",
        "        img, labels = super().__getitem__(i)\n",
        "        img = img.resize((28, 28), Image.ANTIALIAS)\n",
        "        img = np.array(img)[None, ...]\n",
        "        img = img.astype(np.float32) / 255.0\n",
        "        img = 2 * img - 1\n",
        "        return img, labels\n",
        "\n",
        "\n",
        "def evaluate(model, dataloader):\n",
        "    model.eval()\n",
        "    acc, examples_seen = 0.0, 0\n",
        "    with torch.no_grad():\n",
        "        for i, (examples, labels) in enumerate(dataloader):\n",
        "            batch_size = labels.shape[0]\n",
        "            examples = examples.to(device)\n",
        "            labels = labels.to(device)\n",
        "            logits = model(examples)\n",
        "            y_pred = torch.argmax(logits, dim=-1)\n",
        "\n",
        "            acc_i = (y_pred == labels).sum().item()\n",
        "            acc = (examples_seen * acc + acc_i) / (examples_seen + batch_size)\n",
        "            examples_seen += batch_size\n",
        "        \n",
        "    model.train()\n",
        "    return 100 * acc\n",
        "\n",
        "\n",
        "def schedule(lr, loss):\n",
        "    return lr if loss > 1.0 else loss * lr\n",
        "\n",
        "\n",
        "epochs = 10\n",
        "batch_size = 128\n",
        "lr_per_example = 1e-4\n",
        "eval_every = 1000\n",
        "adapt_every = 100\n",
        "weight_decay = 0.001\n",
        "best_model_filename = join(\"cache\", \"mnist_classifier.ckpt\")\n",
        "makedirs(dirname(best_model_filename), exist_ok=True)\n",
        "\n",
        "learning_rate = batch_size * lr_per_example\n",
        "\n",
        "print(f\"learning rate: {learning_rate} (at {batch_size}-minibatches)\")\n",
        "\n",
        "trainset =  Dataset(train=True)\n",
        "testset =  Dataset(train=False)\n",
        "trainloader = DataLoader(trainset, batch_size=batch_size,\n",
        "                         shuffle=True, num_workers=4)\n",
        "testloader = DataLoader(testset, batch_size=batch_size,\n",
        "                        shuffle=False, num_workers=4)\n",
        "\n",
        "clf = Classifier()\n",
        "clf = clf.cuda() if torch.cuda.is_available() else clf\n",
        "clf.train()\n",
        "device = next(clf.parameters()).device\n",
        "print(device)\n",
        "\n",
        "loss_op = nn.NLLLoss(reduction='mean')\n",
        "optimizer = optim.Adam(clf.parameters(), lr=learning_rate, weight_decay=weight_decay)\n",
        "\n",
        "global_step, running_loss = 0, 1.0\n",
        "best_acc = 2.0\n",
        "for epoch in range(epochs):\n",
        "    for i, (examples, labels) in enumerate(trainloader):\n",
        "        batch_size = labels.shape[0]\n",
        "        examples = examples.to(device)\n",
        "        labels = labels.to(device)\n",
        "        logits = clf(examples)\n",
        "        loss = loss_op(logits, labels)\n",
        "        optimizer.zero_grad()\n",
        "        loss.backward()\n",
        "        optimizer.step()\n",
        "\n",
        "        running_loss = 0.99 * running_loss + 0.01 * loss.item()\n",
        "\n",
        "        if global_step % adapt_every == 0:\n",
        "            lr = schedule(learning_rate, running_loss)\n",
        "            print(f\"[{global_step}, epoch {epoch+1}] \"\n",
        "                  f\"train loss = {running_loss:.3f}, \"\n",
        "                  f\"new learning rate = {lr:.5f}\")\n",
        "            for g in optimizer.param_groups:\n",
        "                g.update(lr=lr)\n",
        "\n",
        "        if global_step % eval_every == 0:\n",
        "            acc = evaluate(clf, testloader)\n",
        "            print(f\"[{global_step}, epoch {epoch+1}] \"\n",
        "                  f\"train loss = {running_loss:.3f}, \"\n",
        "                  f\"test acc = {acc:.1f}\")\n",
        "\n",
        "            if acc > best_acc:\n",
        "                clf.to_checkpoint(best_model_filename)\n",
        "                best_acc = acc\n",
        "\n",
        "        global_step += 1\n",
        "\n",
        "print(\"Running final evaluation\")\n",
        "acc = evaluate(clf, testloader)\n",
        "print(f\"[{global_step}, final evaluation] \"\n",
        "      f\"train loss = {running_loss:.3f}, \"\n",
        "      f\"test acc = {acc:.1f}\")\n",
        "\n",
        "if acc > best_acc:\n",
        "    clf.to_checkpoint(best_model_filename)\n",
        "    best_acc = acc"
      ],
      "execution_count": 0,
      "outputs": []
    }
  ]
}